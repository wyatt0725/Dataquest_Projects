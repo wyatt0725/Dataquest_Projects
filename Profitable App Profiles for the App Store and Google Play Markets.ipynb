{
 "cells": [
  {
   "cell_type": "markdown",
   "metadata": {},
   "source": [
    "# Project: Profitable App Profiles for the App Store and Google Play Markets\n",
    "Our aim in this project is to find mobile app profiles that are profitable for the App Store and Google Play markets. We're working as data analysts for a company that builds Android and iOS mobile apps, and our job is to enable our team of developers to make data-driven decisions with respect to the kind of apps they build.\n",
    "\n",
    "At our company, we only build apps that are free to download and install, and our main source of revenue consists of in-app ads. This means that our revenue for any given app is mostly influenced by the number of users that use our app. Our goal for this project is to analyze data to help our developers understand what kinds of apps are likely to attract more users."
   ]
  },
  {
   "cell_type": "markdown",
   "metadata": {},
   "source": [
    "## Opening and Exploring the Data\n",
    "As of September 2018, there were approximately 2 million iOS apps available on the App Store, and 2.1 million Android apps on Google Play.\n",
    "![data_numbers](https://s3.amazonaws.com/dq-content/350/py1m8_statista.png)\n",
    "Sources:[Statista]((https://www.statista.com/statistics/276623/number-of-apps-available-in-leading-app-stores/)\n",
    "\n",
    "Collecting data for over 4 million apps requires a significant amount of time and money, so we'll try to analyze a sample of the data instead. To avoid spending resources on collecting new data ourselves, we should first try to see if we can find any relevant existing data at no cost. Luckily, here are two data sets that seem suitable for our goals:\n",
    "\n",
    "- [A database](https://www.kaggle.com/lava18/google-play-store-apps) containing data about approximately 10,000 Android apps from Google Play; the data was collected in August 2018. You can download the data set directly from [this link](https://dq-content.s3.amazonaws.com/350/googleplaystore.csv)\n",
    "- [A dataset](https://www.kaggle.com/ramamet4/app-store-apple-data-set-10k-apps) containing data about approximately 7,000 iOS apps from the App Store; the data was collected in July 2017. You can download the data set directly from [this link](https://dq-content.s3.amazonaws.com/350/AppleStore.csv)\n",
    "\n",
    "Let's start by **opening and exploring** these data sets."
   ]
  },
  {
   "cell_type": "markdown",
   "metadata": {},
   "source": [
    "Define the `open_file()` function with built-in functions"
   ]
  },
  {
   "cell_type": "code",
   "execution_count": 1,
   "metadata": {},
   "outputs": [],
   "source": [
    "def open_file(file_path):\n",
    "    opened_file=open(file_path, encoding='utf8')\n",
    "    from csv import reader\n",
    "    read_file=reader(opened_file)\n",
    "    data=list(read_file)\n",
    "    return data\n",
    "\n",
    "applestore=open_file('AppleStore.csv')\n",
    "googleplay=open_file('googleplaystore.csv')"
   ]
  },
  {
   "cell_type": "markdown",
   "metadata": {},
   "source": [
    "Then we'll define and call the `explore_data()` function to help us explore the data"
   ]
  },
  {
   "cell_type": "code",
   "execution_count": 2,
   "metadata": {},
   "outputs": [
    {
     "name": "stdout",
     "output_type": "stream",
     "text": [
      "['id', 'track_name', 'size_bytes', 'currency', 'price', 'rating_count_tot', 'rating_count_ver', 'user_rating', 'user_rating_ver', 'ver', 'cont_rating', 'prime_genre', 'sup_devices.num', 'ipadSc_urls.num', 'lang.num', 'vpp_lic'] \n",
      "\n",
      "['284882215', 'Facebook', '389879808', 'USD', '0.0', '2974676', '212', '3.5', '3.5', '95.0', '4+', 'Social Networking', '37', '1', '29', '1']\n",
      "\n",
      "\n",
      "['389801252', 'Instagram', '113954816', 'USD', '0.0', '2161558', '1289', '4.5', '4.0', '10.23', '12+', 'Photo & Video', '37', '0', '29', '1']\n",
      "\n",
      "\n",
      "['529479190', 'Clash of Clans', '116476928', 'USD', '0.0', '2130805', '579', '4.5', '4.5', '9.24.12', '9+', 'Games', '38', '5', '18', '1']\n",
      "\n",
      "\n",
      "['420009108', 'Temple Run', '65921024', 'USD', '0.0', '1724546', '3842', '4.5', '4.0', '1.6.2', '9+', 'Games', '40', '5', '1', '1']\n",
      "\n",
      "\n",
      "Number of rows:  7198\n",
      "Number of columns 16 \n",
      "\n",
      "['App', 'Category', 'Rating', 'Reviews', 'Size', 'Installs', 'Type', 'Price', 'Content Rating', 'Genres', 'Last Updated', 'Current Ver', 'Android Ver'] \n",
      "\n",
      "['Photo Editor & Candy Camera & Grid & ScrapBook', 'ART_AND_DESIGN', '4.1', '159', '19M', '10,000+', 'Free', '0', 'Everyone', 'Art & Design', 'January 7, 2018', '1.0.0', '4.0.3 and up']\n",
      "\n",
      "\n",
      "['Coloring book moana', 'ART_AND_DESIGN', '3.9', '967', '14M', '500,000+', 'Free', '0', 'Everyone', 'Art & Design;Pretend Play', 'January 15, 2018', '2.0.0', '4.0.3 and up']\n",
      "\n",
      "\n",
      "['U Launcher Lite – FREE Live Cool Themes, Hide Apps', 'ART_AND_DESIGN', '4.7', '87510', '8.7M', '5,000,000+', 'Free', '0', 'Everyone', 'Art & Design', 'August 1, 2018', '1.2.4', '4.0.3 and up']\n",
      "\n",
      "\n",
      "['Sketch - Draw & Paint', 'ART_AND_DESIGN', '4.5', '215644', '25M', '50,000,000+', 'Free', '0', 'Teen', 'Art & Design', 'June 8, 2018', 'Varies with device', '4.2 and up']\n",
      "\n",
      "\n",
      "Number of rows:  10842\n",
      "Number of columns 13 \n",
      "\n"
     ]
    }
   ],
   "source": [
    "def explore_data(dataset, start, end, rows_and_columns=True):\n",
    "    data_slice=dataset[start:end]\n",
    "    for row in data_slice:\n",
    "        print(row)\n",
    "        print('\\n')\n",
    "        \n",
    "    if rows_and_columns:\n",
    "        print('Number of rows: ', len(dataset))\n",
    "        print('Number of columns', len(dataset[0]),'\\n')\n",
    "\n",
    "print(applestore[0],'\\n')\n",
    "explore_data(applestore,1,5)\n",
    "\n",
    "print(googleplay[0],'\\n')\n",
    "explore_data(googleplay,1,5)"
   ]
  },
  {
   "cell_type": "markdown",
   "metadata": {},
   "source": [
    "In the previous step, we opened the two data sets and explored the data. Before beginning our analysis, we need to make sure the data we analyze is accurate, or the results of our analysis will be wrong. This means that we need to do the following:\n",
    "- Detect inaccurate data, and correct or remove it.\n",
    "- Detect duplicate data, and remove the duplicates.\n",
    "\n",
    "And let's get into the **data cleaning** process."
   ]
  },
  {
   "cell_type": "markdown",
   "metadata": {},
   "source": [
    "## Cleaning Data"
   ]
  },
  {
   "cell_type": "markdown",
   "metadata": {},
   "source": [
    "**1. Removing Inaccurate Data**\n",
    "\n",
    "Before beginning our analysis, we need to make sure the data we analyze is accurate, or the results of our analysis will be wrong. This means that we need to detect and delete wrong data.\n",
    "\n",
    "Notice: Execute once or run the entire code again"
   ]
  },
  {
   "cell_type": "code",
   "execution_count": 3,
   "metadata": {},
   "outputs": [
    {
     "name": "stdout",
     "output_type": "stream",
     "text": [
      "['Life Made WI-Fi Touchscreen Photo Frame', '1.9', '19', '3.0M', '1,000+', 'Free', '0', 'Everyone', '', 'February 11, 2018', '1.0.19', '4.0 and up']\n",
      "Index number:  10473 \n",
      "\n",
      "There are  1  missing rows and it's already been deleted\n"
     ]
    }
   ],
   "source": [
    "def find_row_missing(dataset): #header considered\n",
    "    count=0\n",
    "    for row in dataset[1:]:\n",
    "        if len(row)!=len(dataset[0]):\n",
    "            print(row)\n",
    "            print('Index number: ', str(dataset.index(row)), '\\n')\n",
    "            del dataset[dataset.index(row)]\n",
    "            count+=1\n",
    "    print('There are ', str(count), ' missing rows and it\\'s already been deleted')\n",
    "\n",
    "find_row_missing(googleplay)"
   ]
  },
  {
   "cell_type": "markdown",
   "metadata": {},
   "source": [
    "**2. Romoving Duplicate App Entries**"
   ]
  },
  {
   "cell_type": "markdown",
   "metadata": {},
   "source": [
    "If we explore the Google Play data set long enough, we'll notice some apps have duplicate entries. For instance, Instagram has four entries:"
   ]
  },
  {
   "cell_type": "code",
   "execution_count": 4,
   "metadata": {},
   "outputs": [
    {
     "name": "stdout",
     "output_type": "stream",
     "text": [
      "['Instagram', 'SOCIAL', '4.5', '66577313', 'Varies with device', '1,000,000,000+', 'Free', '0', 'Teen', 'Social', 'July 31, 2018', 'Varies with device', 'Varies with device']\n",
      "['Instagram', 'SOCIAL', '4.5', '66577446', 'Varies with device', '1,000,000,000+', 'Free', '0', 'Teen', 'Social', 'July 31, 2018', 'Varies with device', 'Varies with device']\n",
      "['Instagram', 'SOCIAL', '4.5', '66577313', 'Varies with device', '1,000,000,000+', 'Free', '0', 'Teen', 'Social', 'July 31, 2018', 'Varies with device', 'Varies with device']\n",
      "['Instagram', 'SOCIAL', '4.5', '66509917', 'Varies with device', '1,000,000,000+', 'Free', '0', 'Teen', 'Social', 'July 31, 2018', 'Varies with device', 'Varies with device']\n"
     ]
    }
   ],
   "source": [
    "for app in googleplay:\n",
    "    name=app[0]\n",
    "    if name=='Instagram':\n",
    "        print(app)"
   ]
  },
  {
   "cell_type": "markdown",
   "metadata": {},
   "source": [
    "In total, there are **1,181** cases where an app occurs more than once which means the number of clean data should be **9659(without header)**:"
   ]
  },
  {
   "cell_type": "code",
   "execution_count": 5,
   "metadata": {
    "scrolled": false
   },
   "outputs": [
    {
     "name": "stdout",
     "output_type": "stream",
     "text": [
      "Number of duplicate apps:  1181\n",
      "\n",
      "\n",
      "Examples of duplicate apps:  ['Quick PDF Scanner + OCR FREE', 'Box', 'Google My Business', 'ZOOM Cloud Meetings', 'join.me - Simple Meetings', 'Box', 'Zenefits', 'Google Ads', 'Google My Business', 'Slack', 'FreshBooks Classic', 'Insightly CRM', 'QuickBooks Accounting: Invoicing & Expenses', 'HipChat - Chat Built for Teams', 'Xero Accounting Software']\n",
      "\n",
      "\n",
      "Expected length:  9659\n"
     ]
    }
   ],
   "source": [
    "duplicate_apps=[]\n",
    "unique_apps=[]\n",
    "for app in googleplay[1:]:\n",
    "    if app[0] in unique_apps:\n",
    "        duplicate_apps.append(app[0])\n",
    "    else:\n",
    "        unique_apps.append(app[0])\n",
    "\n",
    "print('Number of duplicate apps: ', len(duplicate_apps))\n",
    "print('\\n')\n",
    "print('Examples of duplicate apps: ', duplicate_apps[:15])\n",
    "print('\\n')\n",
    "print('Expected length: ', len(googleplay[1:])-1181)"
   ]
  },
  {
   "cell_type": "markdown",
   "metadata": {},
   "source": [
    "We don't want to count certain apps more than once when we analyze data, so we need to remove the duplicate entries and keep only one entry per app. One thing we could do is remove the duplicate rows randomly, but we could probably find a better way.\n",
    "\n",
    "\n",
    "If we examine the rows we printed for the Instagram app, the main difference happens on the fourth position of each row, which corresponds to the number of reviews. The different numbers show the data was collected at different times.\n",
    "\n",
    "\n",
    "We can use this information to build a criterion for removing the duplicates. The higher the number of reviews, the more recent the data should be. Rather than removing duplicates randomly, we'll only keep the row with the highest number of reviews and remove the other entries for any given app."
   ]
  },
  {
   "cell_type": "markdown",
   "metadata": {},
   "source": [
    "To remove the duplicates, we will create the `del_dup()` function below:"
   ]
  },
  {
   "cell_type": "code",
   "execution_count": 6,
   "metadata": {},
   "outputs": [],
   "source": [
    "def del_dup(dataset,criteria):    #header cinsidered\n",
    "    reviews_max={}\n",
    "    for row in dataset[1:]:\n",
    "        name=row[0]\n",
    "        n_reviews=float(row[criteria])\n",
    "        if name not in reviews_max:\n",
    "            reviews_max[name]=n_reviews\n",
    "        if name in reviews_max and n_reviews>reviews_max[name]:\n",
    "            reviews_max[name]=n_reviews\n",
    "        \n",
    "    clean_dataset=[]\n",
    "    already_added=[]\n",
    "    for row in dataset[1:]:\n",
    "        name=row[0]\n",
    "        n_reviews=float(row[criteria])\n",
    "        if n_reviews==reviews_max[name] and name not in already_added:\n",
    "            clean_dataset.append(row)\n",
    "            already_added.append(name)\n",
    "    \n",
    "    return clean_dataset #without header"
   ]
  },
  {
   "cell_type": "code",
   "execution_count": 7,
   "metadata": {},
   "outputs": [
    {
     "name": "stdout",
     "output_type": "stream",
     "text": [
      "9659\n"
     ]
    }
   ],
   "source": [
    "googleplay_clean=del_dup(googleplay,3)\n",
    "print(len(googleplay_clean))"
   ]
  },
  {
   "cell_type": "markdown",
   "metadata": {},
   "source": [
    "In the previous step, we managed to remove the duplicate app entries in the `googleplay` dataset. We don't need to do the same for the `applestore` data because there are no duplicates — you can check that for yourself using the `id column` (not the `track_name` column).\n",
    "\n",
    "However, in order to keep both dataset in the same structure, we'll also create a list called `appstore_clean` which only contains data without a header."
   ]
  },
  {
   "cell_type": "code",
   "execution_count": 8,
   "metadata": {},
   "outputs": [],
   "source": [
    "applestore_clean=applestore[1:]"
   ]
  },
  {
   "cell_type": "markdown",
   "metadata": {},
   "source": [
    "**3. Removing Non-English Apps**"
   ]
  },
  {
   "cell_type": "markdown",
   "metadata": {},
   "source": [
    "Remember we use English for the apps we develop at our company, and we'd like to analyze only the apps that are designed for an English-speaking audience. However, if we explore the data long enough, we'll find that both datasets have apps with names that suggest they are not designed for an English-speaking audience."
   ]
  },
  {
   "cell_type": "code",
   "execution_count": 9,
   "metadata": {},
   "outputs": [
    {
     "name": "stdout",
     "output_type": "stream",
     "text": [
      "爱奇艺PPS -《欢乐颂2》电视剧热播\n",
      "【脱出ゲーム】絶対に最後までプレイしないで 〜謎解き＆ブロックパズル〜\n",
      "\n",
      "\n",
      "中国語 AQリスニング\n",
      "لعبة تقدر تربح DZ\n"
     ]
    }
   ],
   "source": [
    "print(applestore_clean[813][1])\n",
    "print(applestore_clean[6731][1])\n",
    "print('\\n')\n",
    "print(googleplay_clean[4412][0])\n",
    "print(googleplay_clean[7940][0])"
   ]
  },
  {
   "cell_type": "markdown",
   "metadata": {},
   "source": [
    "We're not interested in keeping these kind of apps, so we'll remove them. One way to go about this is to remove each app whose name contains a symbol that is not commonly used in English text — English text usually includes letters from the English alphabet, numbers composed of digits from 0 to 9, punctuation marks (., !, ?, ;, etc.), and other symbols (+, *, /, etc.).\n",
    "\n",
    "This solution should work fine, but some English app names use emojis or other symbols like `''Docs To Go™ Free Office Suite'` and `'Instachat 😜'` will fall outside of the ASCII range.\n",
    "\n",
    "To minimize the impact of data loss, we'll only identify an app as non-English if its name has more than three non-ASCII characters:"
   ]
  },
  {
   "cell_type": "code",
   "execution_count": 10,
   "metadata": {},
   "outputs": [
    {
     "name": "stdout",
     "output_type": "stream",
     "text": [
      "True\n",
      "True\n",
      "False\n"
     ]
    }
   ],
   "source": [
    "def is_eng(string):\n",
    "    out_eng=0\n",
    "    for word in string:\n",
    "        if ord(word) > 127:\n",
    "            out_eng+=1\n",
    "    if out_eng>3:\n",
    "        return False\n",
    "    else:\n",
    "        return True\n",
    "    \n",
    "print(is_eng('Docs To Go™ Free Office Suite'))\n",
    "print(is_eng('Instachat 😜'))\n",
    "print(is_eng('爱奇艺PPS -《欢乐颂2》电视剧热播'))"
   ]
  },
  {
   "cell_type": "markdown",
   "metadata": {},
   "source": [
    "Now let's use the `is_eng()` function to filter out the non-English apps for both data sets:"
   ]
  },
  {
   "cell_type": "code",
   "execution_count": 11,
   "metadata": {},
   "outputs": [
    {
     "name": "stdout",
     "output_type": "stream",
     "text": [
      "['284882215', 'Facebook', '389879808', 'USD', '0.0', '2974676', '212', '3.5', '3.5', '95.0', '4+', 'Social Networking', '37', '1', '29', '1']\n",
      "\n",
      "\n",
      "['389801252', 'Instagram', '113954816', 'USD', '0.0', '2161558', '1289', '4.5', '4.0', '10.23', '12+', 'Photo & Video', '37', '0', '29', '1']\n",
      "\n",
      "\n",
      "['529479190', 'Clash of Clans', '116476928', 'USD', '0.0', '2130805', '579', '4.5', '4.5', '9.24.12', '9+', 'Games', '38', '5', '18', '1']\n",
      "\n",
      "\n",
      "Number of rows:  6183\n",
      "Number of columns 16 \n",
      "\n",
      "\n",
      "\n",
      "['Photo Editor & Candy Camera & Grid & ScrapBook', 'ART_AND_DESIGN', '4.1', '159', '19M', '10,000+', 'Free', '0', 'Everyone', 'Art & Design', 'January 7, 2018', '1.0.0', '4.0.3 and up']\n",
      "\n",
      "\n",
      "['U Launcher Lite – FREE Live Cool Themes, Hide Apps', 'ART_AND_DESIGN', '4.7', '87510', '8.7M', '5,000,000+', 'Free', '0', 'Everyone', 'Art & Design', 'August 1, 2018', '1.2.4', '4.0.3 and up']\n",
      "\n",
      "\n",
      "['Sketch - Draw & Paint', 'ART_AND_DESIGN', '4.5', '215644', '25M', '50,000,000+', 'Free', '0', 'Teen', 'Art & Design', 'June 8, 2018', 'Varies with device', '4.2 and up']\n",
      "\n",
      "\n",
      "Number of rows:  9614\n",
      "Number of columns 13 \n",
      "\n"
     ]
    }
   ],
   "source": [
    "ios_eng=[]\n",
    "android_eng=[]\n",
    "\n",
    "for row in applestore_clean:\n",
    "    name=row[1]\n",
    "    if is_eng(name):\n",
    "        ios_eng.append(row)\n",
    "        \n",
    "for row in googleplay_clean:\n",
    "    name=row[0]\n",
    "    if is_eng(name):\n",
    "        android_eng.append(row)\n",
    "        \n",
    "explore_data(ios_eng,0,3)\n",
    "print('\\n')\n",
    "explore_data(android_eng,0,3)"
   ]
  },
  {
   "cell_type": "markdown",
   "metadata": {},
   "source": [
    "**4. Isolation the Free Apps**"
   ]
  },
  {
   "cell_type": "code",
   "execution_count": 12,
   "metadata": {},
   "outputs": [
    {
     "name": "stdout",
     "output_type": "stream",
     "text": [
      "3222\n",
      "8864\n"
     ]
    }
   ],
   "source": [
    "def free_app(dataset,index):\n",
    "    free_apps=[]\n",
    "    for row in dataset:\n",
    "        price=row[index]\n",
    "        if price=='0' or price=='0.0':\n",
    "            free_apps.append(row)\n",
    "    return free_apps\n",
    "\n",
    "ios_final=free_app(ios_eng, 4)\n",
    "android_final=free_app(android_eng, 7)\n",
    "\n",
    "print(len(ios_final))\n",
    "print(len(android_final))"
   ]
  },
  {
   "cell_type": "markdown",
   "metadata": {},
   "source": [
    "We're left with 8864 Android apps and 3222 iOS apps, which should be enough for our analysis."
   ]
  },
  {
   "cell_type": "markdown",
   "metadata": {},
   "source": [
    "## Most Common Apps by Genre"
   ]
  },
  {
   "cell_type": "markdown",
   "metadata": {},
   "source": [
    "As we mentioned in the introduction, our goal is to determine the kinds of apps that are likely to attract more users because the number of people using our apps affect our revenue.\n",
    "\n",
    "To minimize risks and overhead, our validation strategy for an app idea has three steps:\n",
    "- Build a minimal Android version of the app, and add it to Google Play.\n",
    "- If the app has a good response from users, we develop it further.\n",
    "- If the app is profitable after six months, we build an iOS version of the app and add it to the App Store.\n",
    "\n",
    "Because our end goal is to add the app on both Google Play and the App Store, we need to find app profiles that are successful in both markets. For instance, a profile that works well for both markets might be a productivity app that makes use of gamification.\n",
    "\n",
    "Let's begin the analysis by determining the most common genres for each market."
   ]
  },
  {
   "cell_type": "markdown",
   "metadata": {},
   "source": [
    "**1. Identifying the Columns for genres**"
   ]
  },
  {
   "cell_type": "code",
   "execution_count": 13,
   "metadata": {
    "scrolled": false
   },
   "outputs": [
    {
     "name": "stdout",
     "output_type": "stream",
     "text": [
      "['284882215', 'Facebook', '389879808', 'USD', '0.0', '2974676', '212', '3.5', '3.5', '95.0', '4+', 'Social Networking', '37', '1', '29', '1']\n",
      "\n",
      "\n",
      "['Photo Editor & Candy Camera & Grid & ScrapBook', 'ART_AND_DESIGN', '4.1', '159', '19M', '10,000+', 'Free', '0', 'Everyone', 'Art & Design', 'January 7, 2018', '1.0.0', '4.0.3 and up']\n"
     ]
    }
   ],
   "source": [
    "print(ios_final[0]) #11\n",
    "print('\\n')\n",
    "print(android_final[0]) #1"
   ]
  },
  {
   "cell_type": "markdown",
   "metadata": {},
   "source": [
    "**2. Building the Frequency Table and the Displaying Table**"
   ]
  },
  {
   "cell_type": "code",
   "execution_count": 14,
   "metadata": {},
   "outputs": [],
   "source": [
    "def freq_table(dataset, index):\n",
    "    result={}\n",
    "    for row in dataset:\n",
    "        name=row[index]\n",
    "        if name in result:\n",
    "            result[name]+=1\n",
    "        if name not in result:\n",
    "            result[name]=1\n",
    "    return result\n",
    "\n",
    "def display_table(dataset, index):\n",
    "    table=freq_table(dataset, index)\n",
    "    table_display=[]\n",
    "    for key in table:\n",
    "        as_tuple=(table[key], key)\n",
    "        table_display.append(as_tuple)\n",
    "    \n",
    "    sorted_table=sorted(table_display, reverse=True)\n",
    "    for item in sorted_table:\n",
    "        percent=round((item[0]/len(dataset))*100,1)\n",
    "        print(item[1], ':', percent, '%')"
   ]
  },
  {
   "cell_type": "markdown",
   "metadata": {},
   "source": [
    "**3. Analyzing the Data**"
   ]
  },
  {
   "cell_type": "markdown",
   "metadata": {},
   "source": [
    "We'll start by analyzing the `prime_genre` column of the `ios_final` dataset."
   ]
  },
  {
   "cell_type": "code",
   "execution_count": 15,
   "metadata": {
    "scrolled": true
   },
   "outputs": [
    {
     "name": "stdout",
     "output_type": "stream",
     "text": [
      "Games : 58.2 %\n",
      "Entertainment : 7.9 %\n",
      "Photo & Video : 5.0 %\n",
      "Education : 3.7 %\n",
      "Social Networking : 3.3 %\n",
      "Shopping : 2.6 %\n",
      "Utilities : 2.5 %\n",
      "Sports : 2.1 %\n",
      "Music : 2.0 %\n",
      "Health & Fitness : 2.0 %\n",
      "Productivity : 1.7 %\n",
      "Lifestyle : 1.6 %\n",
      "News : 1.3 %\n",
      "Travel : 1.2 %\n",
      "Finance : 1.1 %\n",
      "Weather : 0.9 %\n",
      "Food & Drink : 0.8 %\n",
      "Reference : 0.6 %\n",
      "Business : 0.5 %\n",
      "Book : 0.4 %\n",
      "Navigation : 0.2 %\n",
      "Medical : 0.2 %\n",
      "Catalogs : 0.1 %\n"
     ]
    }
   ],
   "source": [
    "display_table(ios_final, 11)"
   ]
  },
  {
   "cell_type": "markdown",
   "metadata": {},
   "source": [
    "We can see that among the free English apps, more than a half (55.6%) are games. Entertainment apps are close to 8%, followed by photo and video apps, which are close to 4%. Only 3.5% of the apps are designed for social networking, followed by educational apps which amount for 3.3% of the apps in our data set.\n",
    "\n",
    "The general impression is that App Store (at least the part containing free English apps) is dominated by apps that are designed for fun (games, entertainment, photo and video, social networking, sports, music, etc.), while apps with practical purposes (education, shopping, utilities, productivity, lifestyle, etc.) are more rare. However, the fact that fun apps are the most numerous doesn't also imply that they also have the greatest number of users — the demand might not be the same as the offer."
   ]
  },
  {
   "cell_type": "markdown",
   "metadata": {},
   "source": [
    "Let's continue by examining the `Category` column of the `android_final` data set (two columns which seem to be related)."
   ]
  },
  {
   "cell_type": "code",
   "execution_count": 16,
   "metadata": {},
   "outputs": [
    {
     "name": "stdout",
     "output_type": "stream",
     "text": [
      "FAMILY : 18.9 %\n",
      "GAME : 9.7 %\n",
      "TOOLS : 8.5 %\n",
      "BUSINESS : 4.6 %\n",
      "LIFESTYLE : 3.9 %\n",
      "PRODUCTIVITY : 3.9 %\n",
      "FINANCE : 3.7 %\n",
      "MEDICAL : 3.5 %\n",
      "SPORTS : 3.4 %\n",
      "PERSONALIZATION : 3.3 %\n",
      "COMMUNICATION : 3.2 %\n",
      "HEALTH_AND_FITNESS : 3.1 %\n",
      "PHOTOGRAPHY : 2.9 %\n",
      "NEWS_AND_MAGAZINES : 2.8 %\n",
      "SOCIAL : 2.7 %\n",
      "TRAVEL_AND_LOCAL : 2.3 %\n",
      "SHOPPING : 2.2 %\n",
      "BOOKS_AND_REFERENCE : 2.1 %\n",
      "DATING : 1.9 %\n",
      "VIDEO_PLAYERS : 1.8 %\n",
      "MAPS_AND_NAVIGATION : 1.4 %\n",
      "FOOD_AND_DRINK : 1.2 %\n",
      "EDUCATION : 1.2 %\n",
      "ENTERTAINMENT : 1.0 %\n",
      "LIBRARIES_AND_DEMO : 0.9 %\n",
      "AUTO_AND_VEHICLES : 0.9 %\n",
      "HOUSE_AND_HOME : 0.8 %\n",
      "WEATHER : 0.8 %\n",
      "EVENTS : 0.7 %\n",
      "PARENTING : 0.7 %\n",
      "ART_AND_DESIGN : 0.6 %\n",
      "COMICS : 0.6 %\n",
      "BEAUTY : 0.6 %\n"
     ]
    }
   ],
   "source": [
    "display_table(android_final, 1)"
   ]
  },
  {
   "cell_type": "markdown",
   "metadata": {},
   "source": [
    "The landscape seems significantly different on Google Play: there are not that many apps designed for fun, and it seems that a good number of apps are designed for practical purposes (family, tools, business, lifestyle, productivity, etc.). However, if we investigate this further, we can see that the family category (which accounts for 19% of the apps) means mostly games for kids.\n",
    "\n",
    "[![img](https://s3.amazonaws.com/dq-content/350/py1m8_family.png)](https://play.google.com/store/apps/category/FAMILY?hl=en)\n",
    "\n",
    "Even so, practical apps seem to have a better representation on Google Play compared to App Store. This picture is also confirmed by the frequency table we see for the `Genres` column:"
   ]
  },
  {
   "cell_type": "code",
   "execution_count": 17,
   "metadata": {},
   "outputs": [
    {
     "name": "stdout",
     "output_type": "stream",
     "text": [
      "Tools : 8.4 %\n",
      "Entertainment : 6.1 %\n",
      "Education : 5.3 %\n",
      "Business : 4.6 %\n",
      "Productivity : 3.9 %\n",
      "Lifestyle : 3.9 %\n",
      "Finance : 3.7 %\n",
      "Medical : 3.5 %\n",
      "Sports : 3.5 %\n",
      "Personalization : 3.3 %\n",
      "Communication : 3.2 %\n",
      "Action : 3.1 %\n",
      "Health & Fitness : 3.1 %\n",
      "Photography : 2.9 %\n",
      "News & Magazines : 2.8 %\n",
      "Social : 2.7 %\n",
      "Travel & Local : 2.3 %\n",
      "Shopping : 2.2 %\n",
      "Books & Reference : 2.1 %\n",
      "Simulation : 2.0 %\n",
      "Dating : 1.9 %\n",
      "Arcade : 1.9 %\n",
      "Video Players & Editors : 1.8 %\n",
      "Casual : 1.8 %\n",
      "Maps & Navigation : 1.4 %\n",
      "Food & Drink : 1.2 %\n",
      "Puzzle : 1.1 %\n",
      "Racing : 1.0 %\n",
      "Role Playing : 0.9 %\n",
      "Libraries & Demo : 0.9 %\n",
      "Auto & Vehicles : 0.9 %\n",
      "Strategy : 0.9 %\n",
      "House & Home : 0.8 %\n",
      "Weather : 0.8 %\n",
      "Events : 0.7 %\n",
      "Adventure : 0.7 %\n",
      "Comics : 0.6 %\n",
      "Beauty : 0.6 %\n",
      "Art & Design : 0.6 %\n",
      "Parenting : 0.5 %\n",
      "Card : 0.5 %\n",
      "Casino : 0.4 %\n",
      "Trivia : 0.4 %\n",
      "Educational;Education : 0.4 %\n",
      "Board : 0.4 %\n",
      "Educational : 0.4 %\n",
      "Education;Education : 0.3 %\n",
      "Word : 0.3 %\n",
      "Casual;Pretend Play : 0.2 %\n",
      "Music : 0.2 %\n",
      "Racing;Action & Adventure : 0.2 %\n",
      "Puzzle;Brain Games : 0.2 %\n",
      "Entertainment;Music & Video : 0.2 %\n",
      "Casual;Brain Games : 0.1 %\n",
      "Casual;Action & Adventure : 0.1 %\n",
      "Arcade;Action & Adventure : 0.1 %\n",
      "Action;Action & Adventure : 0.1 %\n",
      "Educational;Pretend Play : 0.1 %\n",
      "Simulation;Action & Adventure : 0.1 %\n",
      "Parenting;Education : 0.1 %\n",
      "Entertainment;Brain Games : 0.1 %\n",
      "Board;Brain Games : 0.1 %\n",
      "Parenting;Music & Video : 0.1 %\n",
      "Educational;Brain Games : 0.1 %\n",
      "Casual;Creativity : 0.1 %\n",
      "Art & Design;Creativity : 0.1 %\n",
      "Education;Pretend Play : 0.1 %\n",
      "Role Playing;Pretend Play : 0.0 %\n",
      "Education;Creativity : 0.0 %\n",
      "Role Playing;Action & Adventure : 0.0 %\n",
      "Puzzle;Action & Adventure : 0.0 %\n",
      "Entertainment;Creativity : 0.0 %\n",
      "Entertainment;Action & Adventure : 0.0 %\n",
      "Educational;Creativity : 0.0 %\n",
      "Educational;Action & Adventure : 0.0 %\n",
      "Education;Music & Video : 0.0 %\n",
      "Education;Brain Games : 0.0 %\n",
      "Education;Action & Adventure : 0.0 %\n",
      "Adventure;Action & Adventure : 0.0 %\n",
      "Video Players & Editors;Music & Video : 0.0 %\n",
      "Sports;Action & Adventure : 0.0 %\n",
      "Simulation;Pretend Play : 0.0 %\n",
      "Puzzle;Creativity : 0.0 %\n",
      "Music;Music & Video : 0.0 %\n",
      "Entertainment;Pretend Play : 0.0 %\n",
      "Casual;Education : 0.0 %\n",
      "Board;Action & Adventure : 0.0 %\n",
      "Video Players & Editors;Creativity : 0.0 %\n",
      "Trivia;Education : 0.0 %\n",
      "Travel & Local;Action & Adventure : 0.0 %\n",
      "Tools;Education : 0.0 %\n",
      "Strategy;Education : 0.0 %\n",
      "Strategy;Creativity : 0.0 %\n",
      "Strategy;Action & Adventure : 0.0 %\n",
      "Simulation;Education : 0.0 %\n",
      "Role Playing;Brain Games : 0.0 %\n",
      "Racing;Pretend Play : 0.0 %\n",
      "Puzzle;Education : 0.0 %\n",
      "Parenting;Brain Games : 0.0 %\n",
      "Music & Audio;Music & Video : 0.0 %\n",
      "Lifestyle;Pretend Play : 0.0 %\n",
      "Lifestyle;Education : 0.0 %\n",
      "Health & Fitness;Education : 0.0 %\n",
      "Health & Fitness;Action & Adventure : 0.0 %\n",
      "Entertainment;Education : 0.0 %\n",
      "Communication;Creativity : 0.0 %\n",
      "Comics;Creativity : 0.0 %\n",
      "Casual;Music & Video : 0.0 %\n",
      "Card;Action & Adventure : 0.0 %\n",
      "Books & Reference;Education : 0.0 %\n",
      "Art & Design;Pretend Play : 0.0 %\n",
      "Art & Design;Action & Adventure : 0.0 %\n",
      "Arcade;Pretend Play : 0.0 %\n",
      "Adventure;Education : 0.0 %\n"
     ]
    }
   ],
   "source": [
    "display_table(android_final,-4)"
   ]
  },
  {
   "cell_type": "markdown",
   "metadata": {},
   "source": [
    "The difference between the `Genres` and the `Category` columns is not crystal clear, but one thing we can notice is that the `Genres` column is much more granular (it has more categories). We're only looking for the bigger picture at the moment, so we'll only work with the `Category` column moving forward.\n",
    "\n",
    "Up to this point, we found that the App Store is dominated by apps designed for fun, while Google Play shows a more balanced landscape of both practical and for-fun apps. Now we'd like to get an idea about the kind of apps that have most users."
   ]
  },
  {
   "cell_type": "markdown",
   "metadata": {},
   "source": [
    "## Most Popular Apps by Genre on the App Store"
   ]
  },
  {
   "cell_type": "markdown",
   "metadata": {},
   "source": [
    "One way to find out what genres are the most popular (have the most users) is to calculate the average number of installs for each app genre. For the Google Play data set, we can find this information in the Installs column, but for the App Store data set this information is missing. As a workaround, we'll take the total number of user ratings as a proxy, which we can find in the `rating_count_tot` column.\n",
    "\n",
    "Below, we calculate the average number of user ratings per app genre on the App Store:"
   ]
  },
  {
   "cell_type": "code",
   "execution_count": 18,
   "metadata": {},
   "outputs": [],
   "source": [
    "def unique_dict(dataset, index):\n",
    "    result={}\n",
    "    for row in dataset:\n",
    "        name=row[index]\n",
    "        if row[index] not in result:\n",
    "            result[name]=0\n",
    "    return result\n",
    "\n",
    "def avg_dict(dataset, groupby_index, result_index):\n",
    "    groupby_dict=unique_dict(dataset, groupby_index)\n",
    "    for item in groupby_dict:\n",
    "        total=0\n",
    "        for row in dataset:\n",
    "            number=float(row[result_index])\n",
    "            if item==row[groupby_index]:\n",
    "                total+=number\n",
    "        groupby_dict[item]=total\n",
    "    \n",
    "    count_dict=freq_table(dataset, groupby_index)\n",
    "    for key in groupby_dict:\n",
    "        result=round(groupby_dict[key]/count_dict[key])\n",
    "        groupby_dict[key]=result\n",
    "    \n",
    "    return groupby_dict"
   ]
  },
  {
   "cell_type": "code",
   "execution_count": 19,
   "metadata": {},
   "outputs": [
    {
     "name": "stdout",
     "output_type": "stream",
     "text": [
      "Navigation : 86090\n",
      "Reference : 74942\n",
      "Social Networking : 71548\n",
      "Music : 57327\n",
      "Weather : 52280\n",
      "Book : 39758\n",
      "Food & Drink : 33334\n",
      "Finance : 31468\n",
      "Photo & Video : 28442\n",
      "Travel : 28244\n",
      "Shopping : 26920\n",
      "Health & Fitness : 23298\n",
      "Sports : 23009\n",
      "Games : 22789\n",
      "News : 21248\n",
      "Productivity : 21028\n",
      "Utilities : 18684\n",
      "Lifestyle : 16486\n",
      "Entertainment : 14030\n",
      "Business : 7491\n",
      "Education : 7004\n",
      "Catalogs : 4004\n",
      "Medical : 612\n"
     ]
    }
   ],
   "source": [
    "ios_pop=avg_dict(ios_final, 11, 5)\n",
    "for_display=[]\n",
    "\n",
    "for key in ios_pop:\n",
    "    as_tuple=(ios_pop[key], key)\n",
    "    for_display.append(as_tuple)\n",
    "ios_rank=sorted(for_display, reverse=True)\n",
    "\n",
    "for item in ios_rank:\n",
    "    print(item[1], ':', item[0])"
   ]
  },
  {
   "cell_type": "markdown",
   "metadata": {},
   "source": [
    "On average, navigation apps have the highest number of user reviews, but we can't decide wether majority apps inside this category enjoy large popularity or it's because a few monopolistic apps with dominant popularity exist.\n",
    "\n",
    "To check the real situation inside each genre, we'll write the `inspect()` function to help us:"
   ]
  },
  {
   "cell_type": "code",
   "execution_count": 20,
   "metadata": {
    "scrolled": true
   },
   "outputs": [],
   "source": [
    "def inspect(genre):\n",
    "    genre_freq=freq_table(ios_final, 11)\n",
    "    genre_total=genre_freq[genre]*ios_pop[genre]\n",
    "    for app in ios_final:\n",
    "        if app[11]==genre:\n",
    "            percent=round(float(app[5])/genre_total,2)*100\n",
    "            print(app[1],':',percent, '%')"
   ]
  },
  {
   "cell_type": "markdown",
   "metadata": {},
   "source": [
    "As we can see,  avrage `rating_count_tot` is heavily influenced by Waze and Google Maps, which have close to 97% of thr user reviews together."
   ]
  },
  {
   "cell_type": "code",
   "execution_count": 21,
   "metadata": {},
   "outputs": [
    {
     "name": "stdout",
     "output_type": "stream",
     "text": [
      "Waze - GPS Navigation, Maps & Real-time Traffic : 67.0 %\n",
      "Google Maps - Navigation & Transit : 30.0 %\n",
      "Geocaching® : 2.0 %\n",
      "CoPilot GPS – Car Navigation & Offline Maps : 1.0 %\n",
      "ImmobilienScout24: Real Estate Search in Germany : 0.0 %\n",
      "Railway Route Search : 0.0 %\n"
     ]
    }
   ],
   "source": [
    "inspect('Navigation')"
   ]
  },
  {
   "cell_type": "markdown",
   "metadata": {},
   "source": [
    "The same pattern applies to social networking apps, where the average number is heavily influenced by a few giants like Facebook, Pinterest, Skype, etc. Same applies to music apps, where a few big players like Pandora, Spotify, and Shazam heavily influence the average number.\n",
    "\n",
    "Our aim is to find popular genres, but navigation, social networking or music apps might seem more popular than they really are. The average number of ratings seem to be skewed by very few apps which have hundreds of thousands of user ratings, while the other apps may struggle to get past the 10,000 threshold. We could get a better picture by removing these extremely popular apps for each genre and then rework the averages, but we'll leave this level of detail for later.\n",
    "\n",
    "Reference apps have 74,942 user ratings on average, but it's actually the Bible and Dictionary.com which skew up the average rating:"
   ]
  },
  {
   "cell_type": "code",
   "execution_count": 22,
   "metadata": {},
   "outputs": [
    {
     "name": "stdout",
     "output_type": "stream",
     "text": [
      "Bible : 73.0 %\n",
      "Dictionary.com Dictionary & Thesaurus : 15.0 %\n",
      "Dictionary.com Dictionary & Thesaurus for iPad : 4.0 %\n",
      "Google Translate : 2.0 %\n",
      "Muslim Pro: Ramadan 2017 Prayer Times, Azan, Quran : 1.0 %\n",
      "New Furniture Mods - Pocket Wiki & Game Tools for Minecraft PC Edition : 1.0 %\n",
      "Merriam-Webster Dictionary : 1.0 %\n",
      "Night Sky : 1.0 %\n",
      "City Maps for Minecraft PE - The Best Maps for Minecraft Pocket Edition (MCPE) : 1.0 %\n",
      "LUCKY BLOCK MOD ™ for Minecraft PC Edition - The Best Pocket Wiki & Mods Installer Tools : 0.0 %\n",
      "GUNS MODS for Minecraft PC Edition - Mods Tools : 0.0 %\n",
      "Guides for Pokémon GO - Pokemon GO News and Cheats : 0.0 %\n",
      "WWDC : 0.0 %\n",
      "Horror Maps for Minecraft PE - Download The Scariest Maps for Minecraft Pocket Edition (MCPE) Free : 0.0 %\n",
      "VPN Express : 0.0 %\n",
      "Real Bike Traffic Rider Virtual Reality Glasses : 0.0 %\n",
      "教えて!goo : 0.0 %\n",
      "Jishokun-Japanese English Dictionary & Translator : 0.0 %\n"
     ]
    }
   ],
   "source": [
    "inspect('Reference')"
   ]
  },
  {
   "cell_type": "markdown",
   "metadata": {},
   "source": [
    "However, this niche seems to show some potential. One thing we could do is take another popular book and turn it into an app where we could add different features besides the raw version of the book. This might include daily quotes from the book, an audio version of the book, quizzes about the book, etc. On top of that, we could also embed a dictionary within the app, so users don't need to exit our app to look up words in an external app.\n",
    "\n",
    "This idea seems to fit well with the fact that the App Store is dominated by for-fun apps. This suggests the market might be a bit saturated with for-fun apps, which means a practical app might have more of a chance to stand out among the huge number of apps on the App Store.\n",
    "\n",
    "Other genres that seem popular include weather, book, food and drink, or finance. The book genre seem to overlap a bit with the app idea we described above, but the other genres don't seem too interesting to us:\n",
    "- Weather apps — people generally don't spend too much time in-app, and the chances of making profit from in-app adds are low. Also, getting reliable live weather data may require us to connect our apps to non-free APIs.\n",
    "- Food and drink — examples here include Starbucks, Dunkin' Donuts, McDonald's, etc. So making a popular food and drink app requires actual cooking and a delivery service, which is outside the scope of our company.\n",
    "- Finance apps — these apps involve banking, paying bills, money transfer, etc. Building a finance app requires domain knowledge, and we don't want to hire a finance expert just to build an app.\n",
    "\n",
    "Now let's analyze the Google Play market a bit."
   ]
  },
  {
   "cell_type": "markdown",
   "metadata": {},
   "source": [
    "## Most Popular Apps by Genre on Google Play"
   ]
  },
  {
   "cell_type": "markdown",
   "metadata": {},
   "source": [
    "For the Google Play market, we actually have data about the number of installs, so we should be able to get a clearer picture about genre popularity. However, the install numbers don't seem precise enough — we can see that most values are open-ended (100+, 1,000+, 5,000+, etc.):"
   ]
  },
  {
   "cell_type": "code",
   "execution_count": 23,
   "metadata": {
    "scrolled": true
   },
   "outputs": [
    {
     "name": "stdout",
     "output_type": "stream",
     "text": [
      "1,000,000+ : 15.7 %\n",
      "100,000+ : 11.6 %\n",
      "10,000,000+ : 10.5 %\n",
      "10,000+ : 10.2 %\n",
      "1,000+ : 8.4 %\n",
      "100+ : 6.9 %\n",
      "5,000,000+ : 6.8 %\n",
      "500,000+ : 5.6 %\n",
      "50,000+ : 4.8 %\n",
      "5,000+ : 4.5 %\n",
      "10+ : 3.5 %\n",
      "500+ : 3.2 %\n",
      "50,000,000+ : 2.3 %\n",
      "100,000,000+ : 2.1 %\n",
      "50+ : 1.9 %\n",
      "5+ : 0.8 %\n",
      "1+ : 0.5 %\n",
      "500,000,000+ : 0.3 %\n",
      "1,000,000,000+ : 0.2 %\n",
      "0+ : 0.0 %\n",
      "0 : 0.0 %\n"
     ]
    }
   ],
   "source": [
    "display_table(android_final, 5)"
   ]
  },
  {
   "cell_type": "markdown",
   "metadata": {},
   "source": [
    "For instance, we don't know whether an app with 100,000+ installs has 100,000 installs, 200,000, or 350,000. However, we don't need very precise data for our purposes — we only want to find out which app genres attract the most users.\n",
    "\n",
    "We're going to leave the numbers as they are, which means that we'll consider that an app with 100,000+ installs has 100,000 installs, and an app with 1,000,000+ installs has 1,000,000 installs, and so on. To perform computations, however, we'll need to convert each install number from a string to a float. This means we need to remove the commas and the plus characters, or the conversion will fail and cause an error."
   ]
  },
  {
   "cell_type": "code",
   "execution_count": 24,
   "metadata": {},
   "outputs": [
    {
     "name": "stdout",
     "output_type": "stream",
     "text": [
      "COMMUNICATION : 38456119\n",
      "VIDEO_PLAYERS : 24727872\n",
      "SOCIAL : 23253652\n",
      "PHOTOGRAPHY : 17840110\n",
      "PRODUCTIVITY : 16787331\n",
      "GAME : 15588016\n",
      "TRAVEL_AND_LOCAL : 13984078\n",
      "ENTERTAINMENT : 11640706\n",
      "TOOLS : 10801391\n",
      "NEWS_AND_MAGAZINES : 9549178\n",
      "BOOKS_AND_REFERENCE : 8767812\n",
      "SHOPPING : 7036877\n",
      "PERSONALIZATION : 5201483\n",
      "WEATHER : 5074486\n",
      "HEALTH_AND_FITNESS : 4188822\n",
      "MAPS_AND_NAVIGATION : 4056942\n",
      "FAMILY : 3695642\n",
      "SPORTS : 3638640\n",
      "ART_AND_DESIGN : 1986335\n",
      "FOOD_AND_DRINK : 1924898\n",
      "EDUCATION : 1833495\n",
      "BUSINESS : 1712290\n",
      "LIFESTYLE : 1437816\n",
      "FINANCE : 1387692\n",
      "HOUSE_AND_HOME : 1331541\n",
      "DATING : 854029\n",
      "COMICS : 817657\n",
      "AUTO_AND_VEHICLES : 647318\n",
      "LIBRARIES_AND_DEMO : 638504\n",
      "PARENTING : 542604\n",
      "BEAUTY : 513152\n",
      "EVENTS : 253542\n",
      "MEDICAL : 120551\n"
     ]
    }
   ],
   "source": [
    "android_pop=unique_dict(android_final, 1)\n",
    "for key in android_pop:\n",
    "    total=0\n",
    "    app_number=0\n",
    "    for app in android_final:\n",
    "        genre=app[1]\n",
    "        installs=app[5]\n",
    "        installs=installs.replace('+','')\n",
    "        installs=installs.replace(',','')\n",
    "        if genre==key:\n",
    "            total+=float(installs)\n",
    "            app_number+=1\n",
    "    avg_installs=round(total/app_number)\n",
    "    android_pop[key]=avg_installs\n",
    "\n",
    "for_display2=[]\n",
    "\n",
    "for key in android_pop:\n",
    "    as_tuple=(android_pop[key], key)\n",
    "    for_display2.append(as_tuple)\n",
    "android_rank=sorted(for_display2, reverse=True)\n",
    "\n",
    "for item in android_rank:\n",
    "    print(item[1], ':', item[0])"
   ]
  },
  {
   "cell_type": "markdown",
   "metadata": {},
   "source": [
    "On average, communication apps have the most installs: 38,456,119. This number is heavily skewed up by a few apps that have over one billion installs (WhatsApp, Facebook Messenger, Skype, Google Chrome, Gmail, and Hangouts), and a few others with over 100 and 500 million installs:"
   ]
  },
  {
   "cell_type": "code",
   "execution_count": 25,
   "metadata": {},
   "outputs": [
    {
     "name": "stdout",
     "output_type": "stream",
     "text": [
      "WhatsApp Messenger : 1,000,000,000+\n",
      "imo beta free calls and text : 100,000,000+\n",
      "Android Messages : 100,000,000+\n",
      "Google Duo - High Quality Video Calls : 500,000,000+\n",
      "Messenger – Text and Video Chat for Free : 1,000,000,000+\n",
      "imo free video calls and chat : 500,000,000+\n",
      "Skype - free IM & video calls : 1,000,000,000+\n",
      "Who : 100,000,000+\n",
      "GO SMS Pro - Messenger, Free Themes, Emoji : 100,000,000+\n",
      "LINE: Free Calls & Messages : 500,000,000+\n",
      "Google Chrome: Fast & Secure : 1,000,000,000+\n",
      "Firefox Browser fast & private : 100,000,000+\n",
      "UC Browser - Fast Download Private & Secure : 500,000,000+\n",
      "Gmail : 1,000,000,000+\n",
      "Hangouts : 1,000,000,000+\n",
      "Messenger Lite: Free Calls & Messages : 100,000,000+\n",
      "Kik : 100,000,000+\n",
      "KakaoTalk: Free Calls & Text : 100,000,000+\n",
      "Opera Mini - fast web browser : 100,000,000+\n",
      "Opera Browser: Fast and Secure : 100,000,000+\n",
      "Telegram : 100,000,000+\n",
      "Truecaller: Caller ID, SMS spam blocking & Dialer : 100,000,000+\n",
      "UC Browser Mini -Tiny Fast Private & Secure : 100,000,000+\n",
      "Viber Messenger : 500,000,000+\n",
      "WeChat : 100,000,000+\n",
      "Yahoo Mail – Stay Organized : 100,000,000+\n",
      "BBM - Free Calls & Messages : 100,000,000+\n"
     ]
    }
   ],
   "source": [
    "for app in android_final:\n",
    "    if app[1]=='COMMUNICATION' and (app[5]=='1,000,000,000+'\n",
    "                                    or app[5]=='500,000,000+'\n",
    "                                    or app[5]=='100,000,000+'):\n",
    "        print(app[0],':',app[5])"
   ]
  },
  {
   "cell_type": "markdown",
   "metadata": {},
   "source": [
    "If we removed all the communication apps that have over 100 million installs, the average would be reduced roughly ten times:"
   ]
  },
  {
   "cell_type": "code",
   "execution_count": 26,
   "metadata": {},
   "outputs": [
    {
     "name": "stdout",
     "output_type": "stream",
     "text": [
      "3603485.3884615386\n"
     ]
    }
   ],
   "source": [
    "under_100_m=[]\n",
    "for app in android_final:\n",
    "    name=app[1]\n",
    "    installs=app[5]\n",
    "    installs=installs.replace('+','')\n",
    "    installs=installs.replace(',','')\n",
    "    if name=='COMMUNICATION' and float(installs)<100000000:\n",
    "        under_100_m.append(float(installs))\n",
    "\n",
    "print(sum(under_100_m)/len(under_100_m))"
   ]
  },
  {
   "cell_type": "markdown",
   "metadata": {},
   "source": [
    "We see the same pattern for the video players category, which is the runner-up with 24,727,872 installs. The market is dominated by apps like Youtube, Google Play Movies & TV, or MX Player. The pattern is repeated for social apps (where we have giants like Facebook, Instagram, Google+, etc.), photography apps (Google Photos and other popular photo editors), or productivity apps (Microsoft Word, Dropbox, Google Calendar, Evernote, etc.).\n",
    "\n",
    "Again, the main concern is that these app genres might seem more popular than they really are. Moreover, these niches seem to be dominated by a few giants who are hard to compete against.\n",
    "\n",
    "The game genre seems pretty popular, but previously we found out this part of the market seems a bit saturated, so we'd like to come up with a different app recommendation if possible.\n",
    "\n",
    "The books and reference genre looks fairly popular as well, with an average number of installs of 8,767,811. It's interesting to explore this in more depth, since we found this genre has some potential to work well on the App Store, and our aim is to recommend an app genre that shows potential for being profitable on both the App Store and Google Play."
   ]
  },
  {
   "cell_type": "markdown",
   "metadata": {},
   "source": [
    "Let's take a look at some of the apps from this genre and their number of installs:"
   ]
  },
  {
   "cell_type": "code",
   "execution_count": 27,
   "metadata": {},
   "outputs": [
    {
     "name": "stdout",
     "output_type": "stream",
     "text": [
      "E-Book Read - Read Book for free : 50,000+\n",
      "Download free book with green book : 100,000+\n",
      "Wikipedia : 10,000,000+\n",
      "Cool Reader : 10,000,000+\n",
      "Free Panda Radio Music : 100,000+\n",
      "Book store : 1,000,000+\n",
      "FBReader: Favorite Book Reader : 10,000,000+\n",
      "English Grammar Complete Handbook : 500,000+\n",
      "Free Books - Spirit Fanfiction and Stories : 1,000,000+\n",
      "Google Play Books : 1,000,000,000+\n",
      "AlReader -any text book reader : 5,000,000+\n",
      "Offline English Dictionary : 100,000+\n",
      "Offline: English to Tagalog Dictionary : 500,000+\n",
      "FamilySearch Tree : 1,000,000+\n",
      "Cloud of Books : 1,000,000+\n",
      "Recipes of Prophetic Medicine for free : 500,000+\n",
      "ReadEra – free ebook reader : 1,000,000+\n",
      "Anonymous caller detection : 10,000+\n",
      "Ebook Reader : 5,000,000+\n",
      "Litnet - E-books : 100,000+\n",
      "Read books online : 5,000,000+\n",
      "English to Urdu Dictionary : 500,000+\n",
      "eBoox: book reader fb2 epub zip : 1,000,000+\n",
      "English Persian Dictionary : 500,000+\n",
      "Flybook : 500,000+\n",
      "All Maths Formulas : 1,000,000+\n",
      "Ancestry : 5,000,000+\n",
      "HTC Help : 10,000,000+\n",
      "English translation from Bengali : 100,000+\n",
      "Pdf Book Download - Read Pdf Book : 100,000+\n",
      "Free Book Reader : 100,000+\n",
      "eBoox new: Reader for fb2 epub zip books : 50,000+\n",
      "Only 30 days in English, the guideline is guaranteed : 500,000+\n",
      "Moon+ Reader : 10,000,000+\n",
      "SH-02J Owner's Manual (Android 8.0) : 50,000+\n",
      "English-Myanmar Dictionary : 1,000,000+\n",
      "Golden Dictionary (EN-AR) : 1,000,000+\n",
      "All Language Translator Free : 1,000,000+\n",
      "Azpen eReader : 500,000+\n",
      "URBANO V 02 instruction manual : 100,000+\n",
      "Bible : 100,000,000+\n",
      "C Programs and Reference : 50,000+\n",
      "C Offline Tutorial : 1,000+\n",
      "C Programs Handbook : 50,000+\n",
      "Amazon Kindle : 100,000,000+\n",
      "Aab e Hayat Full Novel : 100,000+\n",
      "Aldiko Book Reader : 10,000,000+\n",
      "Google I/O 2018 : 500,000+\n",
      "R Language Reference Guide : 10,000+\n",
      "Learn R Programming Full : 5,000+\n",
      "R Programing Offline Tutorial : 1,000+\n",
      "Guide for R Programming : 5+\n",
      "Learn R Programming : 10+\n",
      "R Quick Reference Big Data : 1,000+\n",
      "V Made : 100,000+\n",
      "Wattpad 📖 Free Books : 100,000,000+\n",
      "Dictionary - WordWeb : 5,000,000+\n",
      "Guide (for X-MEN) : 100,000+\n",
      "AC Air condition Troubleshoot,Repair,Maintenance : 5,000+\n",
      "AE Bulletins : 1,000+\n",
      "Ae Allah na Dai (Rasa) : 10,000+\n",
      "50000 Free eBooks & Free AudioBooks : 5,000,000+\n",
      "Ag PhD Field Guide : 10,000+\n",
      "Ag PhD Deficiencies : 10,000+\n",
      "Ag PhD Planting Population Calculator : 1,000+\n",
      "Ag PhD Soybean Diseases : 1,000+\n",
      "Fertilizer Removal By Crop : 50,000+\n",
      "A-J Media Vault : 50+\n",
      "Al-Quran (Free) : 10,000,000+\n",
      "Al Quran (Tafsir & by Word) : 500,000+\n",
      "Al Quran Indonesia : 10,000,000+\n",
      "Al'Quran Bahasa Indonesia : 10,000,000+\n",
      "Al Quran Al karim : 1,000,000+\n",
      "Al-Muhaffiz : 50,000+\n",
      "Al Quran : EAlim - Translations & MP3 Offline : 5,000,000+\n",
      "Al-Quran 30 Juz free copies : 500,000+\n",
      "Koran Read &MP3 30 Juz Offline : 1,000,000+\n",
      "Hafizi Quran 15 lines per page : 1,000,000+\n",
      "Quran for Android : 10,000,000+\n",
      "Surah Al-Waqiah : 100,000+\n",
      "Hisnul Al Muslim - Hisn Invocations & Adhkaar : 100,000+\n",
      "Satellite AR : 1,000,000+\n",
      "Audiobooks from Audible : 100,000,000+\n",
      "Kinot & Eichah for Tisha B'Av : 10,000+\n",
      "AW Tozer Devotionals - Daily : 5,000+\n",
      "Tozer Devotional -Series 1 : 1,000+\n",
      "The Pursuit of God : 1,000+\n",
      "AY Sing : 5,000+\n",
      "Ay Hasnain k Nana Milad Naat : 10,000+\n",
      "Ay Mohabbat Teri Khatir Novel : 10,000+\n",
      "Arizona Statutes, ARS (AZ Law) : 1,000+\n",
      "Oxford A-Z of English Usage : 1,000,000+\n",
      "BD Fishpedia : 1,000+\n",
      "BD All Sim Offer : 10,000+\n",
      "Youboox - Livres, BD et magazines : 500,000+\n",
      "B&H Kids AR : 10,000+\n",
      "B y H Niños ES : 5,000+\n",
      "Dictionary.com: Find Definitions for English Words : 10,000,000+\n",
      "English Dictionary - Offline : 10,000,000+\n",
      "Bible KJV : 5,000,000+\n",
      "Borneo Bible, BM Bible : 10,000+\n",
      "MOD Black for BM : 100+\n",
      "BM Box : 1,000+\n",
      "Anime Mod for BM : 100+\n",
      "NOOK: Read eBooks & Magazines : 10,000,000+\n",
      "NOOK Audiobooks : 500,000+\n",
      "NOOK App for NOOK Devices : 500,000+\n",
      "Browsery by Barnes & Noble : 5,000+\n",
      "bp e-store : 1,000+\n",
      "Brilliant Quotes: Life, Love, Family & Motivation : 1,000,000+\n",
      "BR Ambedkar Biography & Quotes : 10,000+\n",
      "BU Alsace : 100+\n",
      "Catholic La Bu Zo Kam : 500+\n",
      "Khrifa Hla Bu (Solfa) : 10+\n",
      "Kristian Hla Bu : 10,000+\n",
      "SA HLA BU : 1,000+\n",
      "Learn SAP BW : 500+\n",
      "Learn SAP BW on HANA : 500+\n",
      "CA Laws 2018 (California Laws and Codes) : 5,000+\n",
      "Bootable Methods(USB-CD-DVD) : 10,000+\n",
      "cloudLibrary : 100,000+\n",
      "SDA Collegiate Quarterly : 500+\n",
      "Sabbath School : 100,000+\n",
      "Cypress College Library : 100+\n",
      "Stats Royale for Clash Royale : 1,000,000+\n",
      "GATE 21 years CS Papers(2011-2018 Solved) : 50+\n",
      "Learn CT Scan Of Head : 5,000+\n",
      "Easy Cv maker 2018 : 10,000+\n",
      "How to Write CV : 100,000+\n",
      "CW Nuclear : 1,000+\n",
      "CY Spray nozzle : 10+\n",
      "BibleRead En Cy Zh Yue : 5+\n",
      "CZ-Help : 5+\n",
      "Modlitební knížka CZ : 500+\n",
      "Guide for DB Xenoverse : 10,000+\n",
      "Guide for DB Xenoverse 2 : 10,000+\n",
      "Guide for IMS DB : 10+\n",
      "DC HSEMA : 5,000+\n",
      "DC Public Library : 1,000+\n",
      "Painting Lulu DC Super Friends : 1,000+\n",
      "Dictionary : 10,000,000+\n",
      "Fix Error Google Playstore : 1,000+\n",
      "D. H. Lawrence Poems FREE : 1,000+\n",
      "Bilingual Dictionary Audio App : 5,000+\n",
      "DM Screen : 10,000+\n",
      "wikiHow: how to do anything : 1,000,000+\n",
      "Dr. Doug's Tips : 1,000+\n",
      "Bible du Semeur-BDS (French) : 50,000+\n",
      "La citadelle du musulman : 50,000+\n",
      "DV 2019 Entry Guide : 10,000+\n",
      "DV 2019 - EDV Photo & Form : 50,000+\n",
      "DV 2018 Winners Guide : 1,000+\n",
      "EB Annual Meetings : 1,000+\n",
      "EC - AP & Telangana : 5,000+\n",
      "TN Patta Citta & EC : 10,000+\n",
      "AP Stamps and Registration : 10,000+\n",
      "CompactiMa EC pH Calibration : 100+\n",
      "EGW Writings 2 : 100,000+\n",
      "EGW Writings : 1,000,000+\n",
      "Bible with EGW Comments : 100,000+\n",
      "My Little Pony AR Guide : 1,000,000+\n",
      "SDA Sabbath School Quarterly : 500,000+\n",
      "Duaa Ek Ibaadat : 5,000+\n",
      "Spanish English Translator : 10,000,000+\n",
      "Dictionary - Merriam-Webster : 10,000,000+\n",
      "JW Library : 10,000,000+\n",
      "Oxford Dictionary of English : Free : 10,000,000+\n",
      "English Hindi Dictionary : 10,000,000+\n",
      "English to Hindi Dictionary : 5,000,000+\n",
      "EP Research Service : 1,000+\n",
      "Hymnes et Louanges : 100,000+\n",
      "EU Charter : 1,000+\n",
      "EU Data Protection : 1,000+\n",
      "EU IP Codes : 100+\n",
      "EW PDF : 5+\n",
      "BakaReader EX : 100,000+\n",
      "EZ Quran : 50,000+\n",
      "FA Part 1 & 2 Past Papers Solved Free – Offline : 5,000+\n",
      "La Fe de Jesus : 1,000+\n",
      "La Fe de Jesús : 500+\n",
      "Le Fe de Jesus : 500+\n",
      "Florida - Pocket Brainbook : 1,000+\n",
      "Florida Statutes (FL Code) : 1,000+\n",
      "English To Shona Dictionary : 10,000+\n",
      "Greek Bible FP (Audio) : 1,000+\n",
      "Golden Dictionary (FR-AR) : 500,000+\n",
      "Fanfic-FR : 5,000+\n",
      "Bulgarian French Dictionary Fr : 10,000+\n",
      "Chemin (fr) : 1,000+\n",
      "The SCP Foundation DB fr nn5n : 1,000+\n"
     ]
    }
   ],
   "source": [
    "for app in android_final:\n",
    "    if app[1]=='BOOKS_AND_REFERENCE':\n",
    "        print(app[0],':',app[5])"
   ]
  },
  {
   "cell_type": "markdown",
   "metadata": {},
   "source": [
    "The book and reference genre includes a variety of apps: software for processing and reading ebooks, various collections of libraries, dictionaries, tutorials on programming or languages, etc. It seems there's still a small number of extremely popular apps that skew the average:"
   ]
  },
  {
   "cell_type": "code",
   "execution_count": 28,
   "metadata": {},
   "outputs": [
    {
     "name": "stdout",
     "output_type": "stream",
     "text": [
      "Google Play Books : 1,000,000,000+\n",
      "Bible : 100,000,000+\n",
      "Amazon Kindle : 100,000,000+\n",
      "Wattpad 📖 Free Books : 100,000,000+\n",
      "Audiobooks from Audible : 100,000,000+\n"
     ]
    }
   ],
   "source": [
    "for app in android_final:\n",
    "    if app[1]=='BOOKS_AND_REFERENCE' and (app[5]=='1,000,000,000+' \n",
    "                                          or app[5]=='500,000,000+' \n",
    "                                          or app[5]=='100,000,000+'):\n",
    "        print(app[0],':',app[5])"
   ]
  },
  {
   "cell_type": "markdown",
   "metadata": {},
   "source": [
    "However, it looks like there are only a few very popular apps, so this market still shows potential. Let's try to get some app ideas based on the kind of apps that are somewhere in the middle in terms of popularity (between 1,000,000 and 100,000,000 downloads):"
   ]
  },
  {
   "cell_type": "code",
   "execution_count": 29,
   "metadata": {},
   "outputs": [
    {
     "name": "stdout",
     "output_type": "stream",
     "text": [
      "Wikipedia : 10,000,000+\n",
      "Cool Reader : 10,000,000+\n",
      "Book store : 1,000,000+\n",
      "FBReader: Favorite Book Reader : 10,000,000+\n",
      "Free Books - Spirit Fanfiction and Stories : 1,000,000+\n",
      "AlReader -any text book reader : 5,000,000+\n",
      "FamilySearch Tree : 1,000,000+\n",
      "Cloud of Books : 1,000,000+\n",
      "ReadEra – free ebook reader : 1,000,000+\n",
      "Ebook Reader : 5,000,000+\n",
      "Read books online : 5,000,000+\n",
      "eBoox: book reader fb2 epub zip : 1,000,000+\n",
      "All Maths Formulas : 1,000,000+\n",
      "Ancestry : 5,000,000+\n",
      "HTC Help : 10,000,000+\n",
      "Moon+ Reader : 10,000,000+\n",
      "English-Myanmar Dictionary : 1,000,000+\n",
      "Golden Dictionary (EN-AR) : 1,000,000+\n",
      "All Language Translator Free : 1,000,000+\n",
      "Aldiko Book Reader : 10,000,000+\n",
      "Dictionary - WordWeb : 5,000,000+\n",
      "50000 Free eBooks & Free AudioBooks : 5,000,000+\n",
      "Al-Quran (Free) : 10,000,000+\n",
      "Al Quran Indonesia : 10,000,000+\n",
      "Al'Quran Bahasa Indonesia : 10,000,000+\n",
      "Al Quran Al karim : 1,000,000+\n",
      "Al Quran : EAlim - Translations & MP3 Offline : 5,000,000+\n",
      "Koran Read &MP3 30 Juz Offline : 1,000,000+\n",
      "Hafizi Quran 15 lines per page : 1,000,000+\n",
      "Quran for Android : 10,000,000+\n",
      "Satellite AR : 1,000,000+\n",
      "Oxford A-Z of English Usage : 1,000,000+\n",
      "Dictionary.com: Find Definitions for English Words : 10,000,000+\n",
      "English Dictionary - Offline : 10,000,000+\n",
      "Bible KJV : 5,000,000+\n",
      "NOOK: Read eBooks & Magazines : 10,000,000+\n",
      "Brilliant Quotes: Life, Love, Family & Motivation : 1,000,000+\n",
      "Stats Royale for Clash Royale : 1,000,000+\n",
      "Dictionary : 10,000,000+\n",
      "wikiHow: how to do anything : 1,000,000+\n",
      "EGW Writings : 1,000,000+\n",
      "My Little Pony AR Guide : 1,000,000+\n",
      "Spanish English Translator : 10,000,000+\n",
      "Dictionary - Merriam-Webster : 10,000,000+\n",
      "JW Library : 10,000,000+\n",
      "Oxford Dictionary of English : Free : 10,000,000+\n",
      "English Hindi Dictionary : 10,000,000+\n",
      "English to Hindi Dictionary : 5,000,000+\n"
     ]
    }
   ],
   "source": [
    "for app in android_final:\n",
    "    if app[1] == 'BOOKS_AND_REFERENCE' and (app[5] == '1,000,000+'\n",
    "                                            or app[5] == '5,000,000+'\n",
    "                                            or app[5] == '10,000,000+'\n",
    "                                            or app[5] == '50,000,000+'):\n",
    "        print(app[0], ':', app[5])"
   ]
  },
  {
   "cell_type": "markdown",
   "metadata": {},
   "source": [
    "This niche seems to be dominated by software for processing and reading ebooks, as well as various collections of libraries and dictionaries, so it's probably not a good idea to build similar apps since there'll be some significant competition.\n",
    "\n",
    "We also notice there are quite a few apps built around the book Quran, which suggests that building an app around a popular book can be profitable. It seems that taking a popular book (perhaps a more recent book) and turning it into an app could be profitable for both the Google Play and the App Store markets.\n",
    "\n",
    "However, it looks like the market is already full of libraries, so we need to add some special features besides the raw version of the book. This might include daily quotes from the book, an audio version of the book, quizzes on the book, a forum where people can discuss the book, etc."
   ]
  },
  {
   "cell_type": "markdown",
   "metadata": {},
   "source": [
    "## Conclusions\n",
    "In this project, we analyzed data about the App Store and Google Play mobile apps with the goal of recommending an app profile that can be profitable for both markets.\n",
    "\n",
    "We concluded that taking a popular book (perhaps a more recent book) and turning it into an app could be profitable for both the Google Play and the App Store markets. The markets are already full of libraries, so we need to add some special features besides the raw version of the book. This might include daily quotes from the book, an audio version of the book, quizzes on the book, a forum where people can discuss the book, etc."
   ]
  }
 ],
 "metadata": {
  "kernelspec": {
   "display_name": "Python 3 (ipykernel)",
   "language": "python",
   "name": "python3"
  },
  "language_info": {
   "codemirror_mode": {
    "name": "ipython",
    "version": 3
   },
   "file_extension": ".py",
   "mimetype": "text/x-python",
   "name": "python",
   "nbconvert_exporter": "python",
   "pygments_lexer": "ipython3",
   "version": "3.9.12"
  }
 },
 "nbformat": 4,
 "nbformat_minor": 4
}
